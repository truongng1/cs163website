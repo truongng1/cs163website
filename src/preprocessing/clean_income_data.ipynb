{
 "cells": [
  {
   "cell_type": "code",
   "id": "480e5d42-7a39-4262-82c3-9f09bf3c6ea3",
   "metadata": {
    "ExecuteTime": {
     "end_time": "2025-05-14T08:09:32.371629Z",
     "start_time": "2025-05-14T08:09:25.895975Z"
    }
   },
   "source": [
    "import pandas as pd\n",
    "import os\n",
    "\n",
    "folder_path = \"https://storage.googleapis.com/cs163-seniorproject.appspot.com/dataset/income/raw_dataset/\"\n",
    "\n",
    "median_data = []\n",
    "\n",
    "for year in range(2013, 2024):\n",
    "    file_path = os.path.join(folder_path, f\"{year}.csv\")\n",
    "    \n",
    "    try:\n",
    "        df = pd.read_csv(file_path)\n",
    "        median_row = df[df['Label (Grouping)'].str.contains(\"Median\", case=False, na=False)]\n",
    "        \n",
    "        if not median_row.empty:\n",
    "            median_str = median_row.iloc[0]['San Jose city, California!!Households!!Estimate']\n",
    "            median_income = int(median_str.replace(\",\", \"\"))\n",
    "            median_data.append({\"Year\": year, \"Median_Household_Income\": median_income})\n",
    "        else:\n",
    "            print(f\"No income in {year}.csv\")\n",
    "    except Exception as e:\n",
    "        print(f\"Error in {year}.csv: {e}\")\n",
    "\n",
    "median_df = pd.DataFrame(median_data)"
   ],
   "outputs": [],
   "execution_count": 7
  },
  {
   "cell_type": "code",
   "id": "0585f5f7-2b63-4473-937b-0cdc2d976b95",
   "metadata": {
    "ExecuteTime": {
     "end_time": "2025-05-14T08:10:13.838256Z",
     "start_time": "2025-05-14T08:10:13.833323Z"
    }
   },
   "source": "median_df",
   "outputs": [
    {
     "data": {
      "text/plain": [
       "    Year  Median_Household_Income\n",
       "0   2013                    80977\n",
       "1   2014                    87210\n",
       "2   2015                    91451\n",
       "3   2016                   101940\n",
       "4   2017                   104675\n",
       "5   2018                   113036\n",
       "6   2019                   115893\n",
       "7   2020                   117324\n",
       "8   2021                   126377\n",
       "9   2022                   133835\n",
       "10  2023                   136229"
      ],
      "text/html": [
       "<div>\n",
       "<style scoped>\n",
       "    .dataframe tbody tr th:only-of-type {\n",
       "        vertical-align: middle;\n",
       "    }\n",
       "\n",
       "    .dataframe tbody tr th {\n",
       "        vertical-align: top;\n",
       "    }\n",
       "\n",
       "    .dataframe thead th {\n",
       "        text-align: right;\n",
       "    }\n",
       "</style>\n",
       "<table border=\"1\" class=\"dataframe\">\n",
       "  <thead>\n",
       "    <tr style=\"text-align: right;\">\n",
       "      <th></th>\n",
       "      <th>Year</th>\n",
       "      <th>Median_Household_Income</th>\n",
       "    </tr>\n",
       "  </thead>\n",
       "  <tbody>\n",
       "    <tr>\n",
       "      <th>0</th>\n",
       "      <td>2013</td>\n",
       "      <td>80977</td>\n",
       "    </tr>\n",
       "    <tr>\n",
       "      <th>1</th>\n",
       "      <td>2014</td>\n",
       "      <td>87210</td>\n",
       "    </tr>\n",
       "    <tr>\n",
       "      <th>2</th>\n",
       "      <td>2015</td>\n",
       "      <td>91451</td>\n",
       "    </tr>\n",
       "    <tr>\n",
       "      <th>3</th>\n",
       "      <td>2016</td>\n",
       "      <td>101940</td>\n",
       "    </tr>\n",
       "    <tr>\n",
       "      <th>4</th>\n",
       "      <td>2017</td>\n",
       "      <td>104675</td>\n",
       "    </tr>\n",
       "    <tr>\n",
       "      <th>5</th>\n",
       "      <td>2018</td>\n",
       "      <td>113036</td>\n",
       "    </tr>\n",
       "    <tr>\n",
       "      <th>6</th>\n",
       "      <td>2019</td>\n",
       "      <td>115893</td>\n",
       "    </tr>\n",
       "    <tr>\n",
       "      <th>7</th>\n",
       "      <td>2020</td>\n",
       "      <td>117324</td>\n",
       "    </tr>\n",
       "    <tr>\n",
       "      <th>8</th>\n",
       "      <td>2021</td>\n",
       "      <td>126377</td>\n",
       "    </tr>\n",
       "    <tr>\n",
       "      <th>9</th>\n",
       "      <td>2022</td>\n",
       "      <td>133835</td>\n",
       "    </tr>\n",
       "    <tr>\n",
       "      <th>10</th>\n",
       "      <td>2023</td>\n",
       "      <td>136229</td>\n",
       "    </tr>\n",
       "  </tbody>\n",
       "</table>\n",
       "</div>"
      ]
     },
     "execution_count": 12,
     "metadata": {},
     "output_type": "execute_result"
    }
   ],
   "execution_count": 12
  },
  {
   "metadata": {},
   "cell_type": "code",
   "outputs": [],
   "execution_count": null,
   "source": "",
   "id": "d795d5ccecef91b0"
  }
 ],
 "metadata": {
  "kernelspec": {
   "display_name": "Python 3 (ipykernel)",
   "language": "python",
   "name": "python3"
  },
  "language_info": {
   "codemirror_mode": {
    "name": "ipython",
    "version": 3
   },
   "file_extension": ".py",
   "mimetype": "text/x-python",
   "name": "python",
   "nbconvert_exporter": "python",
   "pygments_lexer": "ipython3",
   "version": "3.13.2"
  }
 },
 "nbformat": 4,
 "nbformat_minor": 5
}
