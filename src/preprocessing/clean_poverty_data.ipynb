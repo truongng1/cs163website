{
 "cells": [
  {
   "cell_type": "code",
   "id": "970c08d7-0b28-45f3-ab2e-ce608fcd9658",
   "metadata": {
    "ExecuteTime": {
     "end_time": "2025-05-14T08:11:36.118323Z",
     "start_time": "2025-05-14T08:11:27.625345Z"
    }
   },
   "source": [
    "import pandas as pd\n",
    "import os\n",
    "\n",
    "folder_path = \"https://storage.googleapis.com/cs163-seniorproject.appspot.com/dataset/poverty/raw_dataset/\"\n",
    "\n",
    "years = list(range(2013, 2024))  \n",
    "\n",
    "poverty_data = []\n",
    "\n",
    "for year in years:\n",
    "    file_name = f\"{year}.csv\"\n",
    "    file_path = os.path.join(folder_path, file_name)\n",
    "    \n",
    "    try:\n",
    "        df = pd.read_csv(file_path)\n",
    "        row = df[df['Label (Grouping)'] == \"Population for whom poverty status is determined\"]\n",
    "        percent_str = row.iloc[0][\n",
    "            \"San Jose city, California!!Percent below poverty level!!Estimate\"\n",
    "        ]\n",
    "        poverty_rate = float(percent_str.replace('%', '')) if isinstance(percent_str, str) else None\n",
    "        poverty_data.append({'Year': year, 'Poverty Rate (%)': poverty_rate})\n",
    "    except Exception as e:\n",
    "        print(f\"Error reading {file_name}: {e}\")\n",
    "        poverty_data.append({'Year': year, 'Poverty Rate (%)': None})\n",
    "result_df = pd.DataFrame(poverty_data)"
   ],
   "outputs": [],
   "execution_count": 1
  },
  {
   "cell_type": "code",
   "id": "cfd17feb-b3da-4a03-b8af-6cd84ce7ca18",
   "metadata": {
    "ExecuteTime": {
     "end_time": "2025-05-14T08:11:55.166123Z",
     "start_time": "2025-05-14T08:11:55.160800Z"
    }
   },
   "source": "result_df",
   "outputs": [
    {
     "data": {
      "text/plain": [
       "    Year  Poverty Rate (%)\n",
       "0   2013              12.8\n",
       "1   2014               9.4\n",
       "2   2015               9.5\n",
       "3   2016              10.7\n",
       "4   2017               8.4\n",
       "5   2018               8.3\n",
       "6   2019               7.1\n",
       "7   2020               8.3\n",
       "8   2021               7.4\n",
       "9   2022               9.0\n",
       "10  2023               8.5"
      ],
      "text/html": [
       "<div>\n",
       "<style scoped>\n",
       "    .dataframe tbody tr th:only-of-type {\n",
       "        vertical-align: middle;\n",
       "    }\n",
       "\n",
       "    .dataframe tbody tr th {\n",
       "        vertical-align: top;\n",
       "    }\n",
       "\n",
       "    .dataframe thead th {\n",
       "        text-align: right;\n",
       "    }\n",
       "</style>\n",
       "<table border=\"1\" class=\"dataframe\">\n",
       "  <thead>\n",
       "    <tr style=\"text-align: right;\">\n",
       "      <th></th>\n",
       "      <th>Year</th>\n",
       "      <th>Poverty Rate (%)</th>\n",
       "    </tr>\n",
       "  </thead>\n",
       "  <tbody>\n",
       "    <tr>\n",
       "      <th>0</th>\n",
       "      <td>2013</td>\n",
       "      <td>12.8</td>\n",
       "    </tr>\n",
       "    <tr>\n",
       "      <th>1</th>\n",
       "      <td>2014</td>\n",
       "      <td>9.4</td>\n",
       "    </tr>\n",
       "    <tr>\n",
       "      <th>2</th>\n",
       "      <td>2015</td>\n",
       "      <td>9.5</td>\n",
       "    </tr>\n",
       "    <tr>\n",
       "      <th>3</th>\n",
       "      <td>2016</td>\n",
       "      <td>10.7</td>\n",
       "    </tr>\n",
       "    <tr>\n",
       "      <th>4</th>\n",
       "      <td>2017</td>\n",
       "      <td>8.4</td>\n",
       "    </tr>\n",
       "    <tr>\n",
       "      <th>5</th>\n",
       "      <td>2018</td>\n",
       "      <td>8.3</td>\n",
       "    </tr>\n",
       "    <tr>\n",
       "      <th>6</th>\n",
       "      <td>2019</td>\n",
       "      <td>7.1</td>\n",
       "    </tr>\n",
       "    <tr>\n",
       "      <th>7</th>\n",
       "      <td>2020</td>\n",
       "      <td>8.3</td>\n",
       "    </tr>\n",
       "    <tr>\n",
       "      <th>8</th>\n",
       "      <td>2021</td>\n",
       "      <td>7.4</td>\n",
       "    </tr>\n",
       "    <tr>\n",
       "      <th>9</th>\n",
       "      <td>2022</td>\n",
       "      <td>9.0</td>\n",
       "    </tr>\n",
       "    <tr>\n",
       "      <th>10</th>\n",
       "      <td>2023</td>\n",
       "      <td>8.5</td>\n",
       "    </tr>\n",
       "  </tbody>\n",
       "</table>\n",
       "</div>"
      ]
     },
     "execution_count": 4,
     "metadata": {},
     "output_type": "execute_result"
    }
   ],
   "execution_count": 4
  },
  {
   "metadata": {},
   "cell_type": "code",
   "outputs": [],
   "execution_count": null,
   "source": "",
   "id": "35eb7768b4886066"
  }
 ],
 "metadata": {
  "kernelspec": {
   "display_name": "Python 3 (ipykernel)",
   "language": "python",
   "name": "python3"
  },
  "language_info": {
   "codemirror_mode": {
    "name": "ipython",
    "version": 3
   },
   "file_extension": ".py",
   "mimetype": "text/x-python",
   "name": "python",
   "nbconvert_exporter": "python",
   "pygments_lexer": "ipython3",
   "version": "3.13.2"
  }
 },
 "nbformat": 4,
 "nbformat_minor": 5
}
